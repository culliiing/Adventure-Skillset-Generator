{
 "cells": [
  {
   "cell_type": "code",
   "execution_count": null,
   "metadata": {},
   "outputs": [],
   "source": [
    "from collections import deque"
   ]
  },
  {
   "cell_type": "code",
   "execution_count": null,
   "metadata": {},
   "outputs": [],
   "source": [
    "class Grid:\n",
    "  \n",
    "  def __init__(self, x,y):\n",
    "    self.matrix = [[' ' for j in range(y)] for i in range(x)]\n",
    "\n",
    "  def out(self):\n",
    "    matrix = self.matrix\n",
    "    for row in matrix:\n",
    "      print(('|{} '*len(row)).format(*row))\n",
    "  \n",
    "  def add(self,shape, x, y):\n",
    "    matrix = self.matrix\n",
    "    name = shape.get_name()\n",
    "    for cell in shape.get():\n",
    "      shape_x, shape_y = cell\n",
    "      temp_x = shape_x + x\n",
    "      temp_y = shape_y + y\n",
    "      if  temp_x >= 0 and temp_x < len(matrix) and temp_y >= 0 and temp_y < len(matrix[0]):\n",
    "        if matrix[temp_x][temp_y] == ' ':\n",
    "          matrix[temp_x][temp_y] = name"
   ]
  },
  {
   "cell_type": "code",
   "execution_count": null,
   "metadata": {},
   "outputs": [],
   "source": [
    "class Shape:\n",
    "\n",
    "  def __init__(self, name):\n",
    "    self.queue = deque([(0,0)])\n",
    "    self.current = 0\n",
    "    self.name = name\n",
    "\n",
    "  def right(self):\n",
    "    queue = self.queue\n",
    "    current_cell = queue[self.current]\n",
    "    new_cell = (current_cell[0],current_cell[1]+1)\n",
    "    self.current+=1\n",
    "    queue.append(new_cell)\n",
    "  \n",
    "  def down(self):\n",
    "    queue = self.queue\n",
    "    current_cell = queue[self.current]\n",
    "    new_cell = (current_cell[0]+1,current_cell[1])\n",
    "    self.current+=1\n",
    "    queue.append(new_cell)\n",
    "  \n",
    "  def get_name(self):\n",
    "    return self.name\n",
    "\n",
    "  def get(self):\n",
    "    return list(self.queue)"
   ]
  },
  {
   "cell_type": "code",
   "execution_count": null,
   "metadata": {},
   "outputs": [],
   "source": [
    "def create_shape(name, string):\n",
    "  temp = Shape(name)\n",
    "  seq = string.split()\n",
    "  for op in seq:\n",
    "    match op:\n",
    "      case 'r':\n",
    "        temp.right()\n",
    "      case 'd':\n",
    "        temp.down()\n",
    "  return temp \n",
    "\n",
    "grid = Grid(3,2)\n",
    "A = create_shape('A','r')\n",
    "B = create_shape('B','r d')\n",
    "grid.add(A,0,0)\n",
    "grid.add(B,1,0)\n",
    "grid.out()"
   ]
  }
 ],
 "metadata": {
  "kernelspec": {
   "display_name": "base",
   "language": "python",
   "name": "python3"
  },
  "language_info": {
   "codemirror_mode": {
    "name": "ipython",
    "version": 3
   },
   "file_extension": ".py",
   "mimetype": "text/x-python",
   "name": "python",
   "nbconvert_exporter": "python",
   "pygments_lexer": "ipython3",
   "version": "3.11.4"
  },
  "orig_nbformat": 4
 },
 "nbformat": 4,
 "nbformat_minor": 2
}
